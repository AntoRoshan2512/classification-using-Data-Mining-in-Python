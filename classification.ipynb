{
 "cells": [
  {
   "cell_type": "code",
   "execution_count": 1,
   "id": "2c0b1a10",
   "metadata": {},
   "outputs": [
    {
     "ename": "ModuleNotFoundError",
     "evalue": "No module named 'pandas'",
     "output_type": "error",
     "traceback": [
      "\u001b[1;31m---------------------------------------------------------------------------\u001b[0m",
      "\u001b[1;31mModuleNotFoundError\u001b[0m                       Traceback (most recent call last)",
      "Cell \u001b[1;32mIn[1], line 1\u001b[0m\n\u001b[1;32m----> 1\u001b[0m \u001b[39mimport\u001b[39;00m \u001b[39mpandas\u001b[39;00m \u001b[39mas\u001b[39;00m \u001b[39mpd\u001b[39;00m\n\u001b[0;32m      2\u001b[0m \u001b[39mimport\u001b[39;00m \u001b[39mnumpy\u001b[39;00m \u001b[39mas\u001b[39;00m \u001b[39mnp\u001b[39;00m\n\u001b[0;32m      3\u001b[0m \u001b[39mimport\u001b[39;00m \u001b[39mmatplotlib\u001b[39;00m\u001b[39m.\u001b[39;00m\u001b[39mpyplot\u001b[39;00m \u001b[39mas\u001b[39;00m \u001b[39mplt\u001b[39;00m\n",
      "\u001b[1;31mModuleNotFoundError\u001b[0m: No module named 'pandas'"
     ]
    }
   ],
   "source": [
    "import pandas as pd\n",
    "import numpy as np\n",
    "import matplotlib.pyplot as plt\n",
    "import seaborn as sns"
   ]
  },
  {
   "cell_type": "code",
   "execution_count": null,
   "id": "a264593b",
   "metadata": {},
   "outputs": [
    {
     "ename": "NameError",
     "evalue": "name 'pd' is not defined",
     "output_type": "error",
     "traceback": [
      "\u001b[1;31m---------------------------------------------------------------------------\u001b[0m",
      "\u001b[1;31mNameError\u001b[0m                                 Traceback (most recent call last)",
      "Cell \u001b[1;32mIn[2], line 1\u001b[0m\n\u001b[1;32m----> 1\u001b[0m data \u001b[39m=\u001b[39m pd\u001b[39m.\u001b[39mread_excel(\u001b[39m\"\u001b[39m\u001b[39mpower quality dataset2.xlsx\u001b[39m\u001b[39m\"\u001b[39m)\n",
      "\u001b[1;31mNameError\u001b[0m: name 'pd' is not defined"
     ]
    }
   ],
   "source": [
    "data = pd.read_excel(\"power quality dataset2.xlsx\")"
   ]
  },
  {
   "cell_type": "code",
   "execution_count": null,
   "id": "ca41e5f7",
   "metadata": {},
   "outputs": [
    {
     "data": {
      "text/html": [
       "<div>\n",
       "<style scoped>\n",
       "    .dataframe tbody tr th:only-of-type {\n",
       "        vertical-align: middle;\n",
       "    }\n",
       "\n",
       "    .dataframe tbody tr th {\n",
       "        vertical-align: top;\n",
       "    }\n",
       "\n",
       "    .dataframe thead th {\n",
       "        text-align: right;\n",
       "    }\n",
       "</style>\n",
       "<table border=\"1\" class=\"dataframe\">\n",
       "  <thead>\n",
       "    <tr style=\"text-align: right;\">\n",
       "      <th></th>\n",
       "      <th>Max</th>\n",
       "      <th>Min</th>\n",
       "      <th>Std</th>\n",
       "      <th>Mean</th>\n",
       "      <th>classification</th>\n",
       "    </tr>\n",
       "  </thead>\n",
       "  <tbody>\n",
       "    <tr>\n",
       "      <th>0</th>\n",
       "      <td>1.5080</td>\n",
       "      <td>0.5</td>\n",
       "      <td>0.2049</td>\n",
       "      <td>0.9041</td>\n",
       "      <td>Sag</td>\n",
       "    </tr>\n",
       "    <tr>\n",
       "      <th>1</th>\n",
       "      <td>2.3773</td>\n",
       "      <td>0.1</td>\n",
       "      <td>0.3340</td>\n",
       "      <td>0.8905</td>\n",
       "      <td>Sag</td>\n",
       "    </tr>\n",
       "    <tr>\n",
       "      <th>2</th>\n",
       "      <td>1.2068</td>\n",
       "      <td>0.7</td>\n",
       "      <td>0.1262</td>\n",
       "      <td>0.9346</td>\n",
       "      <td>Sag</td>\n",
       "    </tr>\n",
       "    <tr>\n",
       "      <th>3</th>\n",
       "      <td>1.9127</td>\n",
       "      <td>0.3</td>\n",
       "      <td>0.2764</td>\n",
       "      <td>0.8877</td>\n",
       "      <td>Sag</td>\n",
       "    </tr>\n",
       "    <tr>\n",
       "      <th>4</th>\n",
       "      <td>1.0250</td>\n",
       "      <td>0.9</td>\n",
       "      <td>0.0429</td>\n",
       "      <td>0.9760</td>\n",
       "      <td>Sag</td>\n",
       "    </tr>\n",
       "  </tbody>\n",
       "</table>\n",
       "</div>"
      ],
      "text/plain": [
       "      Max  Min     Std    Mean classification\n",
       "0  1.5080  0.5  0.2049  0.9041            Sag\n",
       "1  2.3773  0.1  0.3340  0.8905            Sag\n",
       "2  1.2068  0.7  0.1262  0.9346            Sag\n",
       "3  1.9127  0.3  0.2764  0.8877            Sag\n",
       "4  1.0250  0.9  0.0429  0.9760            Sag"
      ]
     },
     "execution_count": 3,
     "metadata": {},
     "output_type": "execute_result"
    }
   ],
   "source": [
    "data.head()"
   ]
  },
  {
   "cell_type": "code",
   "execution_count": null,
   "id": "f6f63f0a",
   "metadata": {},
   "outputs": [],
   "source": [
    "data = data.sample(frac=1)"
   ]
  },
  {
   "cell_type": "code",
   "execution_count": null,
   "id": "b4b3178c",
   "metadata": {},
   "outputs": [
    {
     "data": {
      "text/html": [
       "<div>\n",
       "<style scoped>\n",
       "    .dataframe tbody tr th:only-of-type {\n",
       "        vertical-align: middle;\n",
       "    }\n",
       "\n",
       "    .dataframe tbody tr th {\n",
       "        vertical-align: top;\n",
       "    }\n",
       "\n",
       "    .dataframe thead th {\n",
       "        text-align: right;\n",
       "    }\n",
       "</style>\n",
       "<table border=\"1\" class=\"dataframe\">\n",
       "  <thead>\n",
       "    <tr style=\"text-align: right;\">\n",
       "      <th></th>\n",
       "      <th>Max</th>\n",
       "      <th>Min</th>\n",
       "      <th>Std</th>\n",
       "      <th>Mean</th>\n",
       "      <th>classification</th>\n",
       "    </tr>\n",
       "  </thead>\n",
       "  <tbody>\n",
       "    <tr>\n",
       "      <th>1</th>\n",
       "      <td>2.3773</td>\n",
       "      <td>0.1000</td>\n",
       "      <td>0.3340</td>\n",
       "      <td>0.8905</td>\n",
       "      <td>Sag</td>\n",
       "    </tr>\n",
       "    <tr>\n",
       "      <th>65</th>\n",
       "      <td>1.5729</td>\n",
       "      <td>0.9554</td>\n",
       "      <td>0.2241</td>\n",
       "      <td>1.1304</td>\n",
       "      <td>Swell</td>\n",
       "    </tr>\n",
       "    <tr>\n",
       "      <th>150</th>\n",
       "      <td>1.8020</td>\n",
       "      <td>0.3847</td>\n",
       "      <td>0.0679</td>\n",
       "      <td>1.0005</td>\n",
       "      <td>transient</td>\n",
       "    </tr>\n",
       "    <tr>\n",
       "      <th>86</th>\n",
       "      <td>1.1382</td>\n",
       "      <td>0.8620</td>\n",
       "      <td>0.0700</td>\n",
       "      <td>1.0026</td>\n",
       "      <td>flicker</td>\n",
       "    </tr>\n",
       "    <tr>\n",
       "      <th>18</th>\n",
       "      <td>1.1703</td>\n",
       "      <td>0.7300</td>\n",
       "      <td>0.1139</td>\n",
       "      <td>0.9402</td>\n",
       "      <td>Sag</td>\n",
       "    </tr>\n",
       "  </tbody>\n",
       "</table>\n",
       "</div>"
      ],
      "text/plain": [
       "        Max     Min     Std    Mean classification\n",
       "1    2.3773  0.1000  0.3340  0.8905            Sag\n",
       "65   1.5729  0.9554  0.2241  1.1304          Swell\n",
       "150  1.8020  0.3847  0.0679  1.0005      transient\n",
       "86   1.1382  0.8620  0.0700  1.0026        flicker\n",
       "18   1.1703  0.7300  0.1139  0.9402            Sag"
      ]
     },
     "execution_count": 5,
     "metadata": {},
     "output_type": "execute_result"
    }
   ],
   "source": [
    "data.head()"
   ]
  },
  {
   "cell_type": "code",
   "execution_count": null,
   "id": "5748c046",
   "metadata": {},
   "outputs": [
    {
     "data": {
      "text/html": [
       "<div>\n",
       "<style scoped>\n",
       "    .dataframe tbody tr th:only-of-type {\n",
       "        vertical-align: middle;\n",
       "    }\n",
       "\n",
       "    .dataframe tbody tr th {\n",
       "        vertical-align: top;\n",
       "    }\n",
       "\n",
       "    .dataframe thead th {\n",
       "        text-align: right;\n",
       "    }\n",
       "</style>\n",
       "<table border=\"1\" class=\"dataframe\">\n",
       "  <thead>\n",
       "    <tr style=\"text-align: right;\">\n",
       "      <th></th>\n",
       "      <th>Max</th>\n",
       "      <th>Min</th>\n",
       "      <th>Std</th>\n",
       "      <th>Mean</th>\n",
       "    </tr>\n",
       "  </thead>\n",
       "  <tbody>\n",
       "    <tr>\n",
       "      <th>count</th>\n",
       "      <td>198.000000</td>\n",
       "      <td>198.000000</td>\n",
       "      <td>198.000000</td>\n",
       "      <td>198.000000</td>\n",
       "    </tr>\n",
       "    <tr>\n",
       "      <th>mean</th>\n",
       "      <td>1.364363</td>\n",
       "      <td>0.541332</td>\n",
       "      <td>4.758884</td>\n",
       "      <td>0.986998</td>\n",
       "    </tr>\n",
       "    <tr>\n",
       "      <th>std</th>\n",
       "      <td>0.293723</td>\n",
       "      <td>0.345129</td>\n",
       "      <td>64.302219</td>\n",
       "      <td>0.093321</td>\n",
       "    </tr>\n",
       "    <tr>\n",
       "      <th>min</th>\n",
       "      <td>1.018200</td>\n",
       "      <td>0.001300</td>\n",
       "      <td>0.015400</td>\n",
       "      <td>0.821200</td>\n",
       "    </tr>\n",
       "    <tr>\n",
       "      <th>25%</th>\n",
       "      <td>1.079750</td>\n",
       "      <td>0.223800</td>\n",
       "      <td>0.069700</td>\n",
       "      <td>0.894325</td>\n",
       "    </tr>\n",
       "    <tr>\n",
       "      <th>50%</th>\n",
       "      <td>1.286700</td>\n",
       "      <td>0.593050</td>\n",
       "      <td>0.185500</td>\n",
       "      <td>0.999250</td>\n",
       "    </tr>\n",
       "    <tr>\n",
       "      <th>75%</th>\n",
       "      <td>1.577900</td>\n",
       "      <td>0.848075</td>\n",
       "      <td>0.314400</td>\n",
       "      <td>1.037550</td>\n",
       "    </tr>\n",
       "    <tr>\n",
       "      <th>max</th>\n",
       "      <td>2.377300</td>\n",
       "      <td>0.991400</td>\n",
       "      <td>905.000000</td>\n",
       "      <td>1.225700</td>\n",
       "    </tr>\n",
       "  </tbody>\n",
       "</table>\n",
       "</div>"
      ],
      "text/plain": [
       "              Max         Min         Std        Mean\n",
       "count  198.000000  198.000000  198.000000  198.000000\n",
       "mean     1.364363    0.541332    4.758884    0.986998\n",
       "std      0.293723    0.345129   64.302219    0.093321\n",
       "min      1.018200    0.001300    0.015400    0.821200\n",
       "25%      1.079750    0.223800    0.069700    0.894325\n",
       "50%      1.286700    0.593050    0.185500    0.999250\n",
       "75%      1.577900    0.848075    0.314400    1.037550\n",
       "max      2.377300    0.991400  905.000000    1.225700"
      ]
     },
     "execution_count": 6,
     "metadata": {},
     "output_type": "execute_result"
    }
   ],
   "source": [
    "data.describe()"
   ]
  },
  {
   "cell_type": "code",
   "execution_count": null,
   "id": "9eff135e",
   "metadata": {},
   "outputs": [
    {
     "name": "stdout",
     "output_type": "stream",
     "text": [
      "<class 'pandas.core.frame.DataFrame'>\n",
      "Int64Index: 198 entries, 1 to 80\n",
      "Data columns (total 5 columns):\n",
      " #   Column          Non-Null Count  Dtype  \n",
      "---  ------          --------------  -----  \n",
      " 0   Max             198 non-null    float64\n",
      " 1   Min             198 non-null    float64\n",
      " 2   Std             198 non-null    float64\n",
      " 3   Mean            198 non-null    float64\n",
      " 4   classification  198 non-null    object \n",
      "dtypes: float64(4), object(1)\n",
      "memory usage: 9.3+ KB\n"
     ]
    }
   ],
   "source": [
    "data.info()"
   ]
  },
  {
   "cell_type": "code",
   "execution_count": null,
   "id": "8c071b39",
   "metadata": {},
   "outputs": [
    {
     "ename": "NameError",
     "evalue": "name 'data' is not defined",
     "output_type": "error",
     "traceback": [
      "\u001b[1;31m---------------------------------------------------------------------------\u001b[0m",
      "\u001b[1;31mNameError\u001b[0m                                 Traceback (most recent call last)",
      "Cell \u001b[1;32mIn[1], line 1\u001b[0m\n\u001b[1;32m----> 1\u001b[0m data[\u001b[39m'\u001b[39m\u001b[39mclassification\u001b[39m\u001b[39m'\u001b[39m]\u001b[39m.\u001b[39mvalue_counts()\n",
      "\u001b[1;31mNameError\u001b[0m: name 'data' is not defined"
     ]
    }
   ],
   "source": [
    "data['classification'].value_counts()"
   ]
  },
  {
   "cell_type": "code",
   "execution_count": null,
   "id": "374763ff",
   "metadata": {},
   "outputs": [],
   "source": [
    "from sklearn.model_selection import train_test_split\n",
    "from sklearn.metrics import accuracy_score, classification_report\n",
    "from sklearn.linear_model import LogisticRegression\n",
    "from sklearn.neighbors import KNeighborsClassifier"
   ]
  },
  {
   "cell_type": "code",
   "execution_count": null,
   "id": "9acd22db",
   "metadata": {},
   "outputs": [],
   "source": [
    "X = data.drop(columns ='classification')\n",
    "y = data['classification']"
   ]
  },
  {
   "cell_type": "code",
   "execution_count": 4,
   "id": "d9931bc7",
   "metadata": {},
   "outputs": [
    {
     "ename": "NameError",
     "evalue": "name 'X' is not defined",
     "output_type": "error",
     "traceback": [
      "\u001b[1;31m---------------------------------------------------------------------------\u001b[0m",
      "\u001b[1;31mNameError\u001b[0m                                 Traceback (most recent call last)",
      "Cell \u001b[1;32mIn[4], line 1\u001b[0m\n\u001b[1;32m----> 1\u001b[0m X\u001b[39m.\u001b[39mhead()\n",
      "\u001b[1;31mNameError\u001b[0m: name 'X' is not defined"
     ]
    }
   ],
   "source": [
    "X.head()"
   ]
  },
  {
   "cell_type": "code",
   "execution_count": null,
   "id": "93172777",
   "metadata": {},
   "outputs": [
    {
     "data": {
      "text/plain": [
       "1            Sag\n",
       "65         Swell\n",
       "150    transient\n",
       "86       flicker\n",
       "18           Sag\n",
       "Name: classification, dtype: object"
      ]
     },
     "execution_count": 12,
     "metadata": {},
     "output_type": "execute_result"
    }
   ],
   "source": [
    "y.head()"
   ]
  },
  {
   "cell_type": "code",
   "execution_count": null,
   "id": "4d2243de",
   "metadata": {},
   "outputs": [],
   "source": [
    "corr = X.corr()"
   ]
  },
  {
   "cell_type": "code",
   "execution_count": null,
   "id": "0f5f0dad",
   "metadata": {},
   "outputs": [
    {
     "data": {
      "text/html": [
       "<div>\n",
       "<style scoped>\n",
       "    .dataframe tbody tr th:only-of-type {\n",
       "        vertical-align: middle;\n",
       "    }\n",
       "\n",
       "    .dataframe tbody tr th {\n",
       "        vertical-align: top;\n",
       "    }\n",
       "\n",
       "    .dataframe thead th {\n",
       "        text-align: right;\n",
       "    }\n",
       "</style>\n",
       "<table border=\"1\" class=\"dataframe\">\n",
       "  <thead>\n",
       "    <tr style=\"text-align: right;\">\n",
       "      <th></th>\n",
       "      <th>Max</th>\n",
       "      <th>Min</th>\n",
       "      <th>Std</th>\n",
       "      <th>Mean</th>\n",
       "    </tr>\n",
       "  </thead>\n",
       "  <tbody>\n",
       "    <tr>\n",
       "      <th>Max</th>\n",
       "      <td>1.000000</td>\n",
       "      <td>0.110353</td>\n",
       "      <td>-0.032054</td>\n",
       "      <td>0.563440</td>\n",
       "    </tr>\n",
       "    <tr>\n",
       "      <th>Min</th>\n",
       "      <td>0.110353</td>\n",
       "      <td>1.000000</td>\n",
       "      <td>0.090079</td>\n",
       "      <td>0.718416</td>\n",
       "    </tr>\n",
       "    <tr>\n",
       "      <th>Std</th>\n",
       "      <td>-0.032054</td>\n",
       "      <td>0.090079</td>\n",
       "      <td>1.000000</td>\n",
       "      <td>0.050038</td>\n",
       "    </tr>\n",
       "    <tr>\n",
       "      <th>Mean</th>\n",
       "      <td>0.563440</td>\n",
       "      <td>0.718416</td>\n",
       "      <td>0.050038</td>\n",
       "      <td>1.000000</td>\n",
       "    </tr>\n",
       "  </tbody>\n",
       "</table>\n",
       "</div>"
      ],
      "text/plain": [
       "           Max       Min       Std      Mean\n",
       "Max   1.000000  0.110353 -0.032054  0.563440\n",
       "Min   0.110353  1.000000  0.090079  0.718416\n",
       "Std  -0.032054  0.090079  1.000000  0.050038\n",
       "Mean  0.563440  0.718416  0.050038  1.000000"
      ]
     },
     "execution_count": 14,
     "metadata": {},
     "output_type": "execute_result"
    }
   ],
   "source": [
    "corr"
   ]
  },
  {
   "cell_type": "code",
   "execution_count": null,
   "id": "82d5df7c",
   "metadata": {},
   "outputs": [],
   "source": [
    "X_train, X_test, y_train, y_test = train_test_split(X,y)"
   ]
  },
  {
   "cell_type": "markdown",
   "id": "374aaeb3",
   "metadata": {},
   "source": [
    "# K Neigbhors Classifier"
   ]
  },
  {
   "cell_type": "code",
   "execution_count": null,
   "id": "6c702e76",
   "metadata": {},
   "outputs": [
    {
     "name": "stdout",
     "output_type": "stream",
     "text": [
      "0.94\n",
      "              precision    recall  f1-score   support\n",
      "\n",
      "         Sag       1.00      0.62      0.77         8\n",
      "       Swell       1.00      1.00      1.00         8\n",
      "     flicker       1.00      1.00      1.00        11\n",
      "interruption       0.89      1.00      0.94        16\n",
      "   transient       0.88      1.00      0.93         7\n",
      "\n",
      "    accuracy                           0.94        50\n",
      "   macro avg       0.95      0.93      0.93        50\n",
      "weighted avg       0.95      0.94      0.93        50\n",
      "\n"
     ]
    }
   ],
   "source": [
    "knn = KNeighborsClassifier()\n",
    "knn.fit(X_train,y_train)\n",
    "pred = knn.predict(X_test)\n",
    "score = accuracy_score(y_test,pred)\n",
    "print(score)\n",
    "report = classification_report(y_test, pred)\n",
    "print(report)"
   ]
  },
  {
   "cell_type": "markdown",
   "id": "17100675",
   "metadata": {},
   "source": [
    "# Logistic Regression"
   ]
  },
  {
   "cell_type": "code",
   "execution_count": null,
   "id": "8b278e5b",
   "metadata": {},
   "outputs": [
    {
     "name": "stdout",
     "output_type": "stream",
     "text": [
      "0.82\n",
      "              precision    recall  f1-score   support\n",
      "\n",
      "         Sag       0.43      0.38      0.40         8\n",
      "       Swell       1.00      1.00      1.00         8\n",
      "     flicker       1.00      0.64      0.78        11\n",
      "interruption       0.89      1.00      0.94        16\n",
      "   transient       0.70      1.00      0.82         7\n",
      "\n",
      "    accuracy                           0.82        50\n",
      "   macro avg       0.80      0.80      0.79        50\n",
      "weighted avg       0.83      0.82      0.81        50\n",
      "\n"
     ]
    }
   ],
   "source": [
    "lr = LogisticRegression()\n",
    "lr.fit(X_train,y_train)\n",
    "pred = lr.predict(X_test)\n",
    "score = accuracy_score(y_test,pred)\n",
    "print(score)\n",
    "report = classification_report(y_test,pred)\n",
    "print(report)"
   ]
  },
  {
   "cell_type": "code",
   "execution_count": null,
   "id": "03d6652f",
   "metadata": {},
   "outputs": [],
   "source": [
    "from sklearn.tree import DecisionTreeClassifier\n",
    "from sklearn.ensemble import RandomForestClassifier"
   ]
  },
  {
   "cell_type": "markdown",
   "id": "602f44ed",
   "metadata": {},
   "source": [
    "# Decision Tree Classifier"
   ]
  },
  {
   "cell_type": "code",
   "execution_count": null,
   "id": "f8a9f3e3",
   "metadata": {},
   "outputs": [
    {
     "name": "stdout",
     "output_type": "stream",
     "text": [
      "0.96\n",
      "              precision    recall  f1-score   support\n",
      "\n",
      "         Sag       1.00      1.00      1.00         8\n",
      "       Swell       1.00      1.00      1.00         8\n",
      "     flicker       0.85      1.00      0.92        11\n",
      "interruption       1.00      1.00      1.00        16\n",
      "   transient       1.00      0.71      0.83         7\n",
      "\n",
      "    accuracy                           0.96        50\n",
      "   macro avg       0.97      0.94      0.95        50\n",
      "weighted avg       0.97      0.96      0.96        50\n",
      "\n"
     ]
    }
   ],
   "source": [
    "dtc= DecisionTreeClassifier()\n",
    "dtc.fit(X_train,y_train)\n",
    "pred = dtc.predict(X_test)\n",
    "score = accuracy_score(y_test,pred)\n",
    "print(score)\n",
    "report = classification_report(y_test,pred)\n",
    "print(report)"
   ]
  },
  {
   "cell_type": "markdown",
   "id": "b85c5d5c",
   "metadata": {},
   "source": [
    "# Random Forest Classifier"
   ]
  },
  {
   "cell_type": "code",
   "execution_count": null,
   "id": "3a7a33be",
   "metadata": {},
   "outputs": [
    {
     "name": "stdout",
     "output_type": "stream",
     "text": [
      "0.96\n",
      "              precision    recall  f1-score   support\n",
      "\n",
      "         Sag       1.00      1.00      1.00         8\n",
      "       Swell       1.00      1.00      1.00         8\n",
      "     flicker       0.85      1.00      0.92        11\n",
      "interruption       1.00      1.00      1.00        16\n",
      "   transient       1.00      0.71      0.83         7\n",
      "\n",
      "    accuracy                           0.96        50\n",
      "   macro avg       0.97      0.94      0.95        50\n",
      "weighted avg       0.97      0.96      0.96        50\n",
      "\n"
     ]
    }
   ],
   "source": [
    "rfc = RandomForestClassifier()\n",
    "rfc.fit(X_train,y_train)\n",
    "pred = rfc.predict(X_test)\n",
    "score = accuracy_score(y_test,pred)\n",
    "print(score)\n",
    "report = classification_report(y_test,pred)\n",
    "print(report)"
   ]
  },
  {
   "cell_type": "code",
   "execution_count": null,
   "id": "7b8a4bb7",
   "metadata": {},
   "outputs": [],
   "source": []
  }
 ],
 "metadata": {
  "kernelspec": {
   "display_name": "Python 3 (ipykernel)",
   "language": "python",
   "name": "python3"
  },
  "language_info": {
   "codemirror_mode": {
    "name": "ipython",
    "version": 3
   },
   "file_extension": ".py",
   "mimetype": "text/x-python",
   "name": "python",
   "nbconvert_exporter": "python",
   "pygments_lexer": "ipython3",
   "version": "3.11.2"
  }
 },
 "nbformat": 4,
 "nbformat_minor": 5
}
